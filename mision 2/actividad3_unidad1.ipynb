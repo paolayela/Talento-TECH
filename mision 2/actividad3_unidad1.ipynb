{
  "nbformat": 4,
  "nbformat_minor": 0,
  "metadata": {
    "colab": {
      "provenance": [],
      "authorship_tag": "ABX9TyM7oOH7bTa8EzLIRyRLJAA+",
      "include_colab_link": true
    },
    "kernelspec": {
      "name": "python3",
      "display_name": "Python 3"
    },
    "language_info": {
      "name": "python"
    }
  },
  "cells": [
    {
      "cell_type": "markdown",
      "metadata": {
        "id": "view-in-github",
        "colab_type": "text"
      },
      "source": [
        "<a href=\"https://colab.research.google.com/github/paolayela/Talento-TECH/blob/main/actividad3_unidad1.ipynb\" target=\"_parent\"><img src=\"https://colab.research.google.com/assets/colab-badge.svg\" alt=\"Open In Colab\"/></a>"
      ]
    },
    {
      "cell_type": "code",
      "source": [
        "import keras\n",
        "from sklearn.datasets import make_classification\n",
        "from sklearn.model_selection import train_test_split\n",
        "\n",
        "#generar un conjunto de datos\n",
        "x,y =make_classification(n_samples=100, n_features=5, n_classes=2)\n",
        "\n",
        "#dividir los datos en conjuntos de entrenamiento y prueba\n",
        "x_train,x_test,y_train,y_test=train_test_split(x,y,test_size=0.2)\n",
        "\n",
        "#convertir las etiquetas a codigo one_hot\n",
        "y_train_categorical=keras.utils.to_categorical(y_train)\n",
        "y_test_categorical=keras.utils.to_categorical(y_test)\n",
        "\n",
        "#crear una instancia del modelo\n",
        "model=keras.Sequential()\n",
        "\n",
        "model.add(keras.layers.Dense(10, input_shape=(x_train.shape[1],),activation='relu'))\n",
        "model.add(keras.layers.Dense(2,activation='softmax'))\n",
        "\n",
        "#compilar el modelo\n",
        "model.compile(optimizer='adam',loss='categorical_crossentropy',metrics=['accuracy'])\n",
        "\n",
        "#entrenar el modelo\n",
        "model.fit(x_train, y_train_categorical, epochs=10,\n",
        "          batch_size=32, validation_data=(x_test, y_test_categorical))\n",
        "\n",
        "#evaluacion del modelo\n",
        "loss, acuracy=model.evaluate(x_test,y_test_categorical)\n",
        "print('Perdida del conjunto de prueba', loss)\n",
        "print('Precision del conjunto de prueba', acuracy)"
      ],
      "metadata": {
        "colab": {
          "base_uri": "https://localhost:8080/"
        },
        "id": "muDL9PSZo0BE",
        "outputId": "f95cd743-d41b-4cff-e6e0-2ae315b2f494"
      },
      "execution_count": null,
      "outputs": [
        {
          "output_type": "stream",
          "name": "stdout",
          "text": [
            "Epoch 1/10\n",
            "3/3 [==============================] - 3s 279ms/step - loss: 0.8554 - accuracy: 0.4250 - val_loss: 0.6839 - val_accuracy: 0.5500\n",
            "Epoch 2/10\n",
            "3/3 [==============================] - 0s 37ms/step - loss: 0.8336 - accuracy: 0.4250 - val_loss: 0.6704 - val_accuracy: 0.6000\n",
            "Epoch 3/10\n",
            "3/3 [==============================] - 0s 74ms/step - loss: 0.8171 - accuracy: 0.4250 - val_loss: 0.6571 - val_accuracy: 0.6500\n",
            "Epoch 4/10\n",
            "3/3 [==============================] - 0s 43ms/step - loss: 0.7979 - accuracy: 0.4250 - val_loss: 0.6444 - val_accuracy: 0.6000\n",
            "Epoch 5/10\n",
            "3/3 [==============================] - 0s 33ms/step - loss: 0.7796 - accuracy: 0.4375 - val_loss: 0.6325 - val_accuracy: 0.6000\n",
            "Epoch 6/10\n",
            "3/3 [==============================] - 0s 24ms/step - loss: 0.7617 - accuracy: 0.4750 - val_loss: 0.6208 - val_accuracy: 0.6000\n",
            "Epoch 7/10\n",
            "3/3 [==============================] - 0s 52ms/step - loss: 0.7456 - accuracy: 0.4875 - val_loss: 0.6096 - val_accuracy: 0.6500\n",
            "Epoch 8/10\n",
            "3/3 [==============================] - 0s 57ms/step - loss: 0.7289 - accuracy: 0.4875 - val_loss: 0.5989 - val_accuracy: 0.6500\n",
            "Epoch 9/10\n",
            "3/3 [==============================] - 0s 51ms/step - loss: 0.7137 - accuracy: 0.5125 - val_loss: 0.5887 - val_accuracy: 0.6500\n",
            "Epoch 10/10\n",
            "3/3 [==============================] - 0s 31ms/step - loss: 0.6988 - accuracy: 0.5125 - val_loss: 0.5791 - val_accuracy: 0.6500\n",
            "1/1 [==============================] - 0s 41ms/step - loss: 0.5791 - accuracy: 0.6500\n",
            "Perdida del conjunto de prueba 0.5790708661079407\n",
            "Precision del conjunto de prueba 0.6499999761581421\n"
          ]
        }
      ]
    },
    {
      "cell_type": "code",
      "source": [
        "import keras\n",
        "from sklearn.datasets import make_classification\n",
        "from sklearn.model_selection import train_test_split\n",
        "\n",
        "#generar un conjunto de datos\n",
        "x,y =make_classification(n_samples=100, n_features=5, n_classes=2)\n",
        "\n",
        "#dividir los datos en conjuntos de entrenamiento y prueba\n",
        "x_train,x_test,y_train,y_test=train_test_split(x,y,test_size=0.2)\n",
        "\n",
        "#convertir las etiquetas a codigo one_hot\n",
        "y_train_categorical=keras.utils.to_categorical(y_train)\n",
        "y_test_categorical=keras.utils.to_categorical(y_test)\n",
        "\n",
        "#crear una instancia del modelo\n",
        "model=keras.Sequential()\n",
        "\n",
        "model.add(keras.layers.Dense(50, input_shape=(x_train.shape[1],),activation='sigmoid')) #cambio de funcion de activacion\n",
        "model.add(keras.layers.Dense(25,activation='relu')) #aumentamos mas capas y neuronas\n",
        "model.add(keras.layers.Dense(10,activation='relu'))\n",
        "model.add(keras.layers.Dense(2,activation='softmax'))\n",
        "\n",
        "#compilar el modelo\n",
        "model.compile(optimizer='adam',loss='categorical_crossentropy',metrics=['accuracy'])\n",
        "\n",
        "#entrenar el modelo, incrementando epocas, batch\n",
        "model.fit(x_train, y_train_categorical, epochs=20,\n",
        "          batch_size=42, validation_data=(x_test, y_test_categorical))\n",
        "\n",
        "#evaluacion del modelo\n",
        "loss, acuracy=model.evaluate(x_test,y_test_categorical)\n",
        "print('Perdida del conjunto de prueba', loss)\n",
        "print('Precision del conjunto de prueba', acuracy)"
      ],
      "metadata": {
        "colab": {
          "base_uri": "https://localhost:8080/"
        },
        "id": "2IWr30PM8N5d",
        "outputId": "7a7f2c0e-6371-4adb-8cee-0e47cd3ef7da"
      },
      "execution_count": null,
      "outputs": [
        {
          "output_type": "stream",
          "name": "stdout",
          "text": [
            "Epoch 1/20\n",
            "2/2 [==============================] - 2s 563ms/step - loss: 0.7131 - accuracy: 0.4250 - val_loss: 0.7006 - val_accuracy: 0.4500\n",
            "Epoch 2/20\n",
            "2/2 [==============================] - 0s 76ms/step - loss: 0.6957 - accuracy: 0.4625 - val_loss: 0.6912 - val_accuracy: 0.4500\n",
            "Epoch 3/20\n",
            "2/2 [==============================] - 0s 67ms/step - loss: 0.6828 - accuracy: 0.6000 - val_loss: 0.6807 - val_accuracy: 0.6000\n",
            "Epoch 4/20\n",
            "2/2 [==============================] - 0s 138ms/step - loss: 0.6722 - accuracy: 0.7375 - val_loss: 0.6703 - val_accuracy: 0.8000\n",
            "Epoch 5/20\n",
            "2/2 [==============================] - 0s 73ms/step - loss: 0.6591 - accuracy: 0.7875 - val_loss: 0.6588 - val_accuracy: 0.8000\n",
            "Epoch 6/20\n",
            "2/2 [==============================] - 0s 214ms/step - loss: 0.6482 - accuracy: 0.8375 - val_loss: 0.6483 - val_accuracy: 0.7500\n",
            "Epoch 7/20\n",
            "2/2 [==============================] - 0s 35ms/step - loss: 0.6412 - accuracy: 0.8500 - val_loss: 0.6381 - val_accuracy: 0.8000\n",
            "Epoch 8/20\n",
            "2/2 [==============================] - 0s 30ms/step - loss: 0.6321 - accuracy: 0.8500 - val_loss: 0.6290 - val_accuracy: 0.8500\n",
            "Epoch 9/20\n",
            "2/2 [==============================] - 0s 30ms/step - loss: 0.6249 - accuracy: 0.8500 - val_loss: 0.6194 - val_accuracy: 0.8500\n",
            "Epoch 10/20\n",
            "2/2 [==============================] - 0s 37ms/step - loss: 0.6165 - accuracy: 0.8500 - val_loss: 0.6109 - val_accuracy: 0.8500\n",
            "Epoch 11/20\n",
            "2/2 [==============================] - 0s 32ms/step - loss: 0.6085 - accuracy: 0.8625 - val_loss: 0.6015 - val_accuracy: 0.8500\n",
            "Epoch 12/20\n",
            "2/2 [==============================] - 0s 35ms/step - loss: 0.5996 - accuracy: 0.8625 - val_loss: 0.5921 - val_accuracy: 0.8500\n",
            "Epoch 13/20\n",
            "2/2 [==============================] - 0s 31ms/step - loss: 0.5910 - accuracy: 0.8625 - val_loss: 0.5825 - val_accuracy: 0.8500\n",
            "Epoch 14/20\n",
            "2/2 [==============================] - 0s 31ms/step - loss: 0.5826 - accuracy: 0.8625 - val_loss: 0.5730 - val_accuracy: 0.9000\n",
            "Epoch 15/20\n",
            "2/2 [==============================] - 0s 29ms/step - loss: 0.5740 - accuracy: 0.8625 - val_loss: 0.5627 - val_accuracy: 0.9000\n",
            "Epoch 16/20\n",
            "2/2 [==============================] - 0s 32ms/step - loss: 0.5650 - accuracy: 0.8625 - val_loss: 0.5524 - val_accuracy: 0.9000\n",
            "Epoch 17/20\n",
            "2/2 [==============================] - 0s 51ms/step - loss: 0.5580 - accuracy: 0.8750 - val_loss: 0.5418 - val_accuracy: 0.9000\n",
            "Epoch 18/20\n",
            "2/2 [==============================] - 0s 50ms/step - loss: 0.5471 - accuracy: 0.8750 - val_loss: 0.5326 - val_accuracy: 0.9000\n",
            "Epoch 19/20\n",
            "2/2 [==============================] - 0s 38ms/step - loss: 0.5378 - accuracy: 0.8750 - val_loss: 0.5229 - val_accuracy: 0.9000\n",
            "Epoch 20/20\n",
            "2/2 [==============================] - 0s 53ms/step - loss: 0.5289 - accuracy: 0.8750 - val_loss: 0.5141 - val_accuracy: 0.9000\n",
            "1/1 [==============================] - 0s 23ms/step - loss: 0.5141 - accuracy: 0.9000\n",
            "Perdida del conjunto de prueba 0.5141084790229797\n",
            "Precision del conjunto de prueba 0.8999999761581421\n"
          ]
        }
      ]
    }
  ]
}
