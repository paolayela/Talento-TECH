{
  "nbformat": 4,
  "nbformat_minor": 0,
  "metadata": {
    "colab": {
      "provenance": [],
      "authorship_tag": "ABX9TyPDEeEZDDwM1IfVZFx2YaoB",
      "include_colab_link": true
    },
    "kernelspec": {
      "name": "python3",
      "display_name": "Python 3"
    },
    "language_info": {
      "name": "python"
    }
  },
  "cells": [
    {
      "cell_type": "markdown",
      "metadata": {
        "id": "view-in-github",
        "colab_type": "text"
      },
      "source": [
        "<a href=\"https://colab.research.google.com/github/paolayela/Talento-TECH/blob/main/actividad2_1_CNN.ipynb\" target=\"_parent\"><img src=\"https://colab.research.google.com/assets/colab-badge.svg\" alt=\"Open In Colab\"/></a>"
      ]
    },
    {
      "cell_type": "code",
      "execution_count": null,
      "metadata": {
        "colab": {
          "base_uri": "https://localhost:8080/"
        },
        "id": "kRhTVuESNrc5",
        "outputId": "2d78893c-0d39-4fe1-ade3-8cd8064268d4"
      },
      "outputs": [
        {
          "output_type": "stream",
          "name": "stdout",
          "text": [
            "Señal de salida despues de la convolucion\n",
            "[-1 -1  1  1]\n"
          ]
        }
      ],
      "source": [
        "import numpy as np\n",
        "\n",
        "#Definimos las señales de entrada y el filtro\n",
        "x=np.array([2,1,0,1,2])  #Señal de entrada\n",
        "h=np.array([1,-1])       #Filtro\n",
        "\n",
        "#Realizamos la convolucion\n",
        "y=np.convolve(x,h, mode='valid') #mode='valid' indica que queremos solo los datos de la convoluciondonde las señales se superponen completamente(sin relleno)\n",
        "\n",
        "#Imprimimos el resultado\n",
        "print('Señal de salida despues de la convolucion')\n",
        "print(y)"
      ]
    },
    {
      "cell_type": "code",
      "source": [
        "import numpy as np\n",
        "from scipy.signal import convolve2d\n",
        "\n",
        "#Definimos la matriz de entrada y el filtro\n",
        "x=np.array([[1,2,3,3],\n",
        "           [4,5,6,6],\n",
        "           [7,8,9,9],\n",
        "           [7,8,9,9]])\n",
        "\n",
        "h=np.array([[0,1,0],\n",
        "           [-1,1,-1],\n",
        "           [0,1,0]])\n",
        "\n",
        "#Realizamos el proceso de convoluvion\n",
        "y=convolve2d(x,h, mode='valid')\n",
        "\n",
        "#Imprimimos el resultado\n",
        "print('Matriz de salida despues de la convolucion')\n",
        "print(y)"
      ],
      "metadata": {
        "colab": {
          "base_uri": "https://localhost:8080/"
        },
        "id": "tTclsfQzQ3-4",
        "outputId": "d479216d-d80e-4ea0-f703-e79827372aef"
      },
      "execution_count": null,
      "outputs": [
        {
          "output_type": "stream",
          "name": "stdout",
          "text": [
            "Matriz de salida despues de la convolucion\n",
            "[[5 7]\n",
            " [5 7]]\n"
          ]
        }
      ]
    }
  ]
}