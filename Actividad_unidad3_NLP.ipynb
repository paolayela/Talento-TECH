{
  "cells": [
    {
      "cell_type": "markdown",
      "metadata": {
        "id": "view-in-github",
        "colab_type": "text"
      },
      "source": [
        "<a href=\"https://colab.research.google.com/github/paolayela/Talento-TECH/blob/main/Actividad_unidad3_NLP.ipynb\" target=\"_parent\"><img src=\"https://colab.research.google.com/assets/colab-badge.svg\" alt=\"Open In Colab\"/></a>"
      ]
    },
    {
      "cell_type": "code",
      "execution_count": null,
      "metadata": {
        "colab": {
          "base_uri": "https://localhost:8080/"
        },
        "id": "vwhYOvwGmx-t",
        "outputId": "bc68c48a-44b3-487a-9a22-9d578b99d245"
      },
      "outputs": [
        {
          "output_type": "stream",
          "name": "stdout",
          "text": [
            "Requirement already satisfied: nltk in /usr/local/lib/python3.10/dist-packages (3.8.1)\n",
            "Requirement already satisfied: click in /usr/local/lib/python3.10/dist-packages (from nltk) (8.1.7)\n",
            "Requirement already satisfied: joblib in /usr/local/lib/python3.10/dist-packages (from nltk) (1.4.2)\n",
            "Requirement already satisfied: regex>=2021.8.3 in /usr/local/lib/python3.10/dist-packages (from nltk) (2024.5.15)\n",
            "Requirement already satisfied: tqdm in /usr/local/lib/python3.10/dist-packages (from nltk) (4.66.4)\n"
          ]
        }
      ],
      "source": [
        "!pip install nltk\n",
        "import nltk\n",
        "#nltk.download()"
      ]
    },
    {
      "cell_type": "code",
      "execution_count": null,
      "metadata": {
        "colab": {
          "base_uri": "https://localhost:8080/"
        },
        "id": "Fwohu0pInApn",
        "outputId": "3f4644fc-ef9a-4513-df7e-433aa39376e8"
      },
      "outputs": [
        {
          "output_type": "stream",
          "name": "stderr",
          "text": [
            "[nltk_data] Downloading package punkt to /root/nltk_data...\n",
            "[nltk_data]   Unzipping tokenizers/punkt.zip.\n"
          ]
        },
        {
          "output_type": "stream",
          "name": "stdout",
          "text": [
            "['NLTK', 'es', 'una', 'bibilioteca', 'de', 'procesamiento', 'de', 'lenguaje', 'natural']\n"
          ]
        }
      ],
      "source": [
        "from nltk.tokenize import word_tokenize\n",
        "\n",
        "nltk.download('punkt')\n",
        "\n",
        "sentence='NLTK es una bibilioteca de procesamiento de lenguaje natural'\n",
        "tokens=word_tokenize(sentence)\n",
        "print(tokens)\n"
      ]
    },
    {
      "cell_type": "code",
      "execution_count": null,
      "metadata": {
        "colab": {
          "base_uri": "https://localhost:8080/"
        },
        "id": "AdwCH2afndW6",
        "outputId": "2b90f934-b680-4707-d277-13f0c6d2e839"
      },
      "outputs": [
        {
          "output_type": "stream",
          "name": "stdout",
          "text": [
            "['run', 'play', 'jump']\n"
          ]
        }
      ],
      "source": [
        "from nltk.stem import PorterStemmer\n",
        "\n",
        "words = [\"running\", \"plays\", \"jumped\"]\n",
        "stemmer=PorterStemmer()\n",
        "stems = [stemmer.stem(word) for word in words]\n",
        "print(stems)"
      ]
    },
    {
      "cell_type": "code",
      "execution_count": null,
      "metadata": {
        "colab": {
          "base_uri": "https://localhost:8080/"
        },
        "id": "UnzZCX7noK14",
        "outputId": "7bf5559c-d1f0-45f2-828c-ee320270eeb3"
      },
      "outputs": [
        {
          "output_type": "stream",
          "name": "stderr",
          "text": [
            "[nltk_data] Downloading package averaged_perceptron_tagger to\n",
            "[nltk_data]     /root/nltk_data...\n",
            "[nltk_data]   Unzipping taggers/averaged_perceptron_tagger.zip.\n"
          ]
        },
        {
          "output_type": "stream",
          "name": "stdout",
          "text": [
            "[('NLTK', 'NNP'), ('es', 'CC'), ('una', 'JJ'), ('biblioteca', 'NN'), ('de', 'IN'), ('procesamiento', 'FW'), ('de', 'FW'), ('lenguaje', 'FW'), ('natural', 'JJ')]\n"
          ]
        }
      ],
      "source": [
        "nltk.download('averaged_perceptron_tagger')\n",
        "from nltk import pos_tag\n",
        "from nltk.tokenize import word_tokenize\n",
        "\n",
        "sentence = \"NLTK es una biblioteca de procesamiento de lenguaje natural\"\n",
        "tokens = word_tokenize(sentence)  # Tokenizar la oración en palabras\n",
        "tagged_words = pos_tag(tokens)\n",
        "print(tagged_words)"
      ]
    },
    {
      "cell_type": "code",
      "execution_count": null,
      "metadata": {
        "colab": {
          "base_uri": "https://localhost:8080/"
        },
        "id": "UfelCSdl4AX8",
        "outputId": "b5f9761a-e02a-4984-b771-29482620d7a6"
      },
      "outputs": [
        {
          "output_type": "stream",
          "name": "stdout",
          "text": [
            "Requirement already satisfied: kaggle in /usr/local/lib/python3.10/dist-packages (1.6.17)\n",
            "Requirement already satisfied: six>=1.10 in /usr/local/lib/python3.10/dist-packages (from kaggle) (1.16.0)\n",
            "Requirement already satisfied: certifi>=2023.7.22 in /usr/local/lib/python3.10/dist-packages (from kaggle) (2024.7.4)\n",
            "Requirement already satisfied: python-dateutil in /usr/local/lib/python3.10/dist-packages (from kaggle) (2.8.2)\n",
            "Requirement already satisfied: requests in /usr/local/lib/python3.10/dist-packages (from kaggle) (2.31.0)\n",
            "Requirement already satisfied: tqdm in /usr/local/lib/python3.10/dist-packages (from kaggle) (4.66.4)\n",
            "Requirement already satisfied: python-slugify in /usr/local/lib/python3.10/dist-packages (from kaggle) (8.0.4)\n",
            "Requirement already satisfied: urllib3 in /usr/local/lib/python3.10/dist-packages (from kaggle) (2.0.7)\n",
            "Requirement already satisfied: bleach in /usr/local/lib/python3.10/dist-packages (from kaggle) (6.1.0)\n",
            "Requirement already satisfied: webencodings in /usr/local/lib/python3.10/dist-packages (from bleach->kaggle) (0.5.1)\n",
            "Requirement already satisfied: text-unidecode>=1.3 in /usr/local/lib/python3.10/dist-packages (from python-slugify->kaggle) (1.3)\n",
            "Requirement already satisfied: charset-normalizer<4,>=2 in /usr/local/lib/python3.10/dist-packages (from requests->kaggle) (3.3.2)\n",
            "Requirement already satisfied: idna<4,>=2.5 in /usr/local/lib/python3.10/dist-packages (from requests->kaggle) (3.7)\n",
            "mv: cannot stat '/path/to/kaggle.json': No such file or directory\n",
            "chmod: cannot access '/root/.kaggle/kaggle.json': No such file or directory\n",
            "Dataset URL: https://www.kaggle.com/datasets/lakshmi25npathi/imdb-dataset-of-50k-movie-reviews\n",
            "License(s): other\n",
            "Downloading imdb-dataset-of-50k-movie-reviews.zip to /content\n",
            " 86% 22.0M/25.7M [00:00<00:00, 95.6MB/s]\n",
            "100% 25.7M/25.7M [00:00<00:00, 106MB/s] \n",
            "Archive:  imdb-dataset-of-50k-movie-reviews.zip\n",
            "  inflating: IMDB Dataset.csv        \n"
          ]
        }
      ],
      "source": [
        "!pip install kaggle\n",
        "!mkdir ~/.kaggle\n",
        "!mv /path/to/kaggle.json ~/.kaggle/\n",
        "!chmod 600 ~/.kaggle/kaggle.json\n",
        "\n",
        "!kaggle datasets download -d lakshmi25npathi/imdb-dataset-of-50k-movie-reviews\n",
        "!unzip imdb-dataset-of-50k-movie-reviews.zip"
      ]
    },
    {
      "cell_type": "code",
      "execution_count": null,
      "metadata": {
        "id": "xJ6jZEx99FsM",
        "colab": {
          "base_uri": "https://localhost:8080/"
        },
        "outputId": "9d9bb094-54a1-488d-b6c0-76eb34e0019e"
      },
      "outputs": [
        {
          "output_type": "stream",
          "name": "stdout",
          "text": [
            "                                              review sentiment\n",
            "0  One of the other reviewers has mentioned that ...  positive\n",
            "1  A wonderful little production. <br /><br />The...  positive\n",
            "2  I thought this was a wonderful way to spend ti...  positive\n",
            "3  Basically there's a family where a little boy ...  negative\n",
            "4  Petter Mattei's \"Love in the Time of Money\" is...  positive\n"
          ]
        }
      ],
      "source": [
        "import pandas as pd\n",
        "\n",
        "# Cargar el dataset\n",
        "df = pd.read_csv(\"IMDB Dataset.csv\")\n",
        "\n",
        "# Mostrar las primeras 5 entradas\n",
        "print(df.head())\n"
      ]
    },
    {
      "cell_type": "code",
      "execution_count": null,
      "metadata": {
        "colab": {
          "base_uri": "https://localhost:8080/",
          "height": 174
        },
        "id": "CYp1sPLz0dj_",
        "outputId": "dd5a244f-b9ef-413e-b60f-6f822fc3fbe6"
      },
      "outputs": [
        {
          "output_type": "execute_result",
          "data": {
            "text/plain": [
              "\"#Ejemplo de conjunto de datos de textos etiquetados\\ndata = [\\n    ('I love this movie','positive'),\\n    ('this movie is terrible','negative'),\\n    ('this movie is great','positive'),\\n    ('I dislike this movie','negative'),\\n    ('this film is amaxing','positive'),\\n    ('I can´n stand watching this movie','negative'),\\n    ('the acting in this movie is phenomenal','positive'),\\n    ('I regret wasting my time on this film','negative'),\\n    ('I thorougnly enjoyed this movie','positive'),\\n    ('this movie lacks depth and substance','negative'),\\n    ('the plot of this movie was captivating','positive'),\\n    ('I found the characters in this film to be very engaging','positive'),\\n    ('the especial effects in this movie were impressive','positive'),\\n    ('the storline was predictable and unoriginal','negative'),\\n    ('I was disappointed by the lack of character development','negative'),\\n    ('the cinematography in this film was stunning','positive'),\\n    ('the dialogue felt forced and unnatural','negative'),\\n    ('the pacing of the movie was too slow for my liking','negative'),\\n    ('I was pleasantly surprised by how much I enjoyed this film ','positive'),\\n    ('the  ending left me feeling unsatisfied and confused','negative'),\\n    ('this movie exceeded my expectations','positive'),\\n    ('the performances by the actors were lackluster','negative')\\n        ]\""
            ],
            "application/vnd.google.colaboratory.intrinsic+json": {
              "type": "string"
            }
          },
          "metadata": {},
          "execution_count": 7
        }
      ],
      "source": [
        "import nltk\n",
        "import random\n",
        "\n",
        "\"\"\"#Ejemplo de conjunto de datos de textos etiquetados\n",
        "data = [\n",
        "    ('I love this movie','positive'),\n",
        "    ('this movie is terrible','negative'),\n",
        "    ('this movie is great','positive'),\n",
        "    ('I dislike this movie','negative'),\n",
        "    ('this film is amaxing','positive'),\n",
        "    ('I can´n stand watching this movie','negative'),\n",
        "    ('the acting in this movie is phenomenal','positive'),\n",
        "    ('I regret wasting my time on this film','negative'),\n",
        "    ('I thorougnly enjoyed this movie','positive'),\n",
        "    ('this movie lacks depth and substance','negative'),\n",
        "    ('the plot of this movie was captivating','positive'),\n",
        "    ('I found the characters in this film to be very engaging','positive'),\n",
        "    ('the especial effects in this movie were impressive','positive'),\n",
        "    ('the storline was predictable and unoriginal','negative'),\n",
        "    ('I was disappointed by the lack of character development','negative'),\n",
        "    ('the cinematography in this film was stunning','positive'),\n",
        "    ('the dialogue felt forced and unnatural','negative'),\n",
        "    ('the pacing of the movie was too slow for my liking','negative'),\n",
        "    ('I was pleasantly surprised by how much I enjoyed this film ','positive'),\n",
        "    ('the  ending left me feeling unsatisfied and confused','negative'),\n",
        "    ('this movie exceeded my expectations','positive'),\n",
        "    ('the performances by the actors were lackluster','negative')\n",
        "        ]\"\"\"\n"
      ]
    },
    {
      "cell_type": "code",
      "execution_count": null,
      "metadata": {
        "id": "k85iSzz50dff"
      },
      "outputs": [],
      "source": [
        "# Preprocesamiento de datos: tokenizacion y extraccion de caracteristicas\n",
        "def preprocess(text):\n",
        "    tokens= nltk.word_tokenize(text)\n",
        "    return {word: True for word in tokens}"
      ]
    },
    {
      "cell_type": "code",
      "execution_count": null,
      "metadata": {
        "id": "QuI0A0oFJbc9"
      },
      "outputs": [],
      "source": [
        "\"\"\"#Aplicamos el preprocesamiento a los datos\n",
        "featuresets = [(preprocess(text), df['sentiment']) for (text, df['sentiment']) in df]\n",
        "print(featuresets)\"\"\"\n",
        "\n",
        "#Aplicamos el preprocesamiento a los datos\n",
        "featuresets = [(preprocess(text), sentiment) for text, sentiment in zip(df['review'], df['sentiment'])]\n",
        "print(featuresets)"
      ]
    },
    {
      "cell_type": "code",
      "execution_count": null,
      "metadata": {
        "id": "QRNE52OFBiho"
      },
      "outputs": [],
      "source": [
        "#Dividir los datos en conjuntos de entrenamiento y prueba\n",
        "train_set, test_set = featuresets[:16], featuresets[16:]"
      ]
    },
    {
      "cell_type": "code",
      "execution_count": null,
      "metadata": {
        "id": "fmFAoTDIBibY"
      },
      "outputs": [],
      "source": [
        "# Entrenamos un clasificador utilizando Naive Bayes\n",
        "classifier = nltk.NaiveBayesClassifier.train(train_set)"
      ]
    },
    {
      "cell_type": "code",
      "execution_count": null,
      "metadata": {
        "colab": {
          "base_uri": "https://localhost:8080/"
        },
        "id": "tleMAvuuKfGp",
        "outputId": "2e49ab10-c162-49e4-f090-b9513f31ef3a"
      },
      "outputs": [
        {
          "output_type": "stream",
          "name": "stdout",
          "text": [
            "Accuracy: 0.537812099871959\n"
          ]
        }
      ],
      "source": [
        "#evaluamos el clasificador en el conjunto de prueba\n",
        "accuracy = nltk.classify.accuracy(classifier, test_set)\n",
        "print(\"Accuracy:\", accuracy)"
      ]
    },
    {
      "cell_type": "code",
      "execution_count": null,
      "metadata": {
        "colab": {
          "base_uri": "https://localhost:8080/"
        },
        "id": "YzwHqdVwKpqr",
        "outputId": "8bafa9ae-44f0-4d77-a643-52386470105b"
      },
      "outputs": [
        {
          "output_type": "stream",
          "name": "stdout",
          "text": [
            "Prediction: negative\n"
          ]
        }
      ],
      "source": [
        "#Clasificamos un nuevo texto\n",
        "new_text = \"this movie is amazing\"\n",
        "#new_text = \"This movie is very bad\"\n",
        "new_text_features = preprocess(new_text)\n",
        "prediction = classifier.classify(new_text_features)\n",
        "print(\"Prediction:\", prediction)"
      ]
    }
  ],
  "metadata": {
    "colab": {
      "provenance": [],
      "authorship_tag": "ABX9TyNi7CErszyFAIUs3obytz4+",
      "include_colab_link": true
    },
    "kernelspec": {
      "display_name": "Python 3",
      "name": "python3"
    },
    "language_info": {
      "name": "python"
    }
  },
  "nbformat": 4,
  "nbformat_minor": 0
}