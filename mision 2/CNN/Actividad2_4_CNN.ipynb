{
  "cells": [
    {
      "cell_type": "markdown",
      "metadata": {
        "id": "view-in-github",
        "colab_type": "text"
      },
      "source": [
        "<a href=\"https://colab.research.google.com/github/paolayela/Talento-TECH/blob/main/Actividad2_4_CNN.ipynb\" target=\"_parent\"><img src=\"https://colab.research.google.com/assets/colab-badge.svg\" alt=\"Open In Colab\"/></a>"
      ]
    },
    {
      "cell_type": "code",
      "execution_count": null,
      "metadata": {
        "colab": {
          "base_uri": "https://localhost:8080/"
        },
        "id": "izZoV4cXpVAU",
        "outputId": "ae4d5a6a-bdf1-4910-e741-30040ef9bbc6"
      },
      "outputs": [
        {
          "output_type": "stream",
          "name": "stdout",
          "text": [
            "Downloading data from https://storage.googleapis.com/tensorflow/tf-keras-datasets/mnist.npz\n",
            "11490434/11490434 [==============================] - 0s 0us/step\n",
            "[7 2 1 0 4 1 4 9 5 9 0 6 9 0 1 5 9 7 3 4 9 6 6 5 4 0 7 4 0 1]\n"
          ]
        }
      ],
      "source": [
        "\n",
        "import keras\n",
        "import numpy as np\n",
        "import pandas as pd\n",
        "import matplotlib.pyplot as plt\n",
        "\n",
        "#cargamos el conjunto de datos mnist\n",
        "mnist=keras.datasets.mnist\n",
        "\n",
        "#Dividimos los datos en entrenamiento y prueba\n",
        "(train_images,train_label),(test_images,test_label)=mnist.load_data()\n",
        "\n",
        "print(test_label[:30])\n"
      ]
    },
    {
      "cell_type": "code",
      "execution_count": null,
      "metadata": {
        "id": "2VpgpnivrvJT"
      },
      "outputs": [],
      "source": [
        "#normalizacion de los valores de los pixeles\n",
        "train_images=train_images/255.0\n",
        "test_images=test_images/255.0"
      ]
    },
    {
      "cell_type": "code",
      "execution_count": null,
      "metadata": {
        "colab": {
          "base_uri": "https://localhost:8080/"
        },
        "id": "9N0r8HNvwhHv",
        "outputId": "4192c2b5-147f-4b8c-908f-36f9dc49a30d"
      },
      "outputs": [
        {
          "output_type": "stream",
          "name": "stdout",
          "text": [
            "Model: \"sequential\"\n",
            "_________________________________________________________________\n",
            " Layer (type)                Output Shape              Param #   \n",
            "=================================================================\n",
            " conv2d (Conv2D)             (None, 26, 26, 32)        320       \n",
            "                                                                 \n",
            " max_pooling2d (MaxPooling2  (None, 13, 13, 32)        0         \n",
            " D)                                                              \n",
            "                                                                 \n",
            " conv2d_1 (Conv2D)           (None, 11, 11, 64)        18496     \n",
            "                                                                 \n",
            " max_pooling2d_1 (MaxPoolin  (None, 5, 5, 64)          0         \n",
            " g2D)                                                            \n",
            "                                                                 \n",
            " flatten (Flatten)           (None, 1600)              0         \n",
            "                                                                 \n",
            " dense (Dense)               (None, 128)               204928    \n",
            "                                                                 \n",
            " dense_1 (Dense)             (None, 10)                1290      \n",
            "                                                                 \n",
            "=================================================================\n",
            "Total params: 225034 (879.04 KB)\n",
            "Trainable params: 225034 (879.04 KB)\n",
            "Non-trainable params: 0 (0.00 Byte)\n",
            "_________________________________________________________________\n"
          ]
        }
      ],
      "source": [
        "#construmos el modelo de clasificacion\n",
        "model=keras.Sequential([\n",
        "    keras.layers.Conv2D(32,(3,3),activation='relu', input_shape=(28,28,1)),\n",
        "    keras.layers.MaxPooling2D(2,2),\n",
        "    keras.layers.Conv2D(64,(3,3),activation='relu'),\n",
        "    keras.layers.MaxPooling2D(2,2),\n",
        "    keras.layers.Flatten(),\n",
        "    keras.layers.Dense(128,activation='relu'),\n",
        "    keras.layers.Dense(10,activation='softmax')\n",
        "    ])\n",
        "\n",
        "model.summary()"
      ]
    },
    {
      "cell_type": "code",
      "execution_count": null,
      "metadata": {
        "id": "KciTS_Zx2Q5A"
      },
      "outputs": [],
      "source": [
        "#Compilar el modelo\n",
        "model.compile(optimizer='adam',loss='sparse_categorical_crossentropy',metrics=['accuracy'])"
      ]
    },
    {
      "cell_type": "code",
      "execution_count": null,
      "metadata": {
        "colab": {
          "base_uri": "https://localhost:8080/",
          "height": 795
        },
        "id": "u8X2924u4haF",
        "outputId": "419ab559-61f8-4f28-e795-e251978aad67"
      },
      "outputs": [
        {
          "output_type": "stream",
          "name": "stdout",
          "text": [
            "Epoch 1/10\n",
            "1875/1875 [==============================] - 68s 33ms/step - loss: 0.1250 - accuracy: 0.9613\n",
            "Epoch 2/10\n",
            "1875/1875 [==============================] - 49s 26ms/step - loss: 0.0419 - accuracy: 0.9868\n",
            "Epoch 3/10\n",
            "1875/1875 [==============================] - 49s 26ms/step - loss: 0.0282 - accuracy: 0.9912\n",
            "Epoch 4/10\n",
            "1875/1875 [==============================] - 47s 25ms/step - loss: 0.0209 - accuracy: 0.9933\n",
            "Epoch 5/10\n",
            "1875/1875 [==============================] - 48s 26ms/step - loss: 0.0162 - accuracy: 0.9951\n",
            "Epoch 6/10\n",
            "1875/1875 [==============================] - 47s 25ms/step - loss: 0.0120 - accuracy: 0.9958\n",
            "Epoch 7/10\n",
            "1875/1875 [==============================] - 48s 26ms/step - loss: 0.0092 - accuracy: 0.9969\n",
            "Epoch 8/10\n",
            "1875/1875 [==============================] - 46s 25ms/step - loss: 0.0079 - accuracy: 0.9974\n",
            "Epoch 9/10\n",
            "1875/1875 [==============================] - 48s 25ms/step - loss: 0.0078 - accuracy: 0.9975\n",
            "Epoch 10/10\n",
            "1875/1875 [==============================] - 46s 25ms/step - loss: 0.0057 - accuracy: 0.9980\n"
          ]
        },
        {
          "output_type": "execute_result",
          "data": {
            "text/plain": [
              "<Axes: >"
            ]
          },
          "metadata": {},
          "execution_count": 5
        },
        {
          "output_type": "display_data",
          "data": {
            "text/plain": [
              "<Figure size 640x480 with 1 Axes>"
            ],
            "image/png": "[encoded data removed]"
          },
          "metadata": {}
        }
      ],
      "source": [
        "#Entrenamiento del modelo\n",
        "history=model.fit(train_images,train_label,epochs=10)\n",
        "\n",
        "#graficar el entrenamiento del modelo\n",
        "pd.DataFrame(history.history).plot(grid=True)"
      ]
    },
    {
      "cell_type": "code",
      "execution_count": null,
      "metadata": {
        "colab": {
          "base_uri": "https://localhost:8080/"
        },
        "id": "fDamatkcIrYu",
        "outputId": "fefbc204-dc0b-406b-be4f-44d64f1b49fd"
      },
      "outputs": [
        {
          "output_type": "stream",
          "name": "stdout",
          "text": [
            "1875/1875 [==============================] - 18s 9ms/step - loss: 0.0024 - accuracy: 0.9991\n",
            "perdida en el conjunto de entrenamiento: 0.0024096283596009016\n",
            "Precision en el conjunto de entrenamiento: 0.9991499781608582\n",
            "313/313 [==============================] - 4s 12ms/step - loss: 0.0353 - accuracy: 0.9920\n",
            "perdida en el conjunto de prueba: 0.03528967127203941\n",
            "Precision en el conjunto de prueba: 0.9919999837875366\n"
          ]
        }
      ],
      "source": [
        "# Evaluar el modelo en el conjunto de prueba\n",
        "loss, acuracy=model.evaluate(train_images,train_label)\n",
        "print(f'perdida en el conjunto de entrenamiento: {loss}')\n",
        "print(f'Precision en el conjunto de entrenamiento: {acuracy}')\n",
        "\n",
        "loss, acuracy=model.evaluate(test_images,test_label)\n",
        "print(f'perdida en el conjunto de prueba: {loss}')\n",
        "print(f'Precision en el conjunto de prueba: {acuracy}')\n"
      ]
    },
    {
      "cell_type": "code",
      "execution_count": null,
      "metadata": {
        "colab": {
          "base_uri": "https://localhost:8080/"
        },
        "id": "qqtVw_VDLKgd",
        "outputId": "93b3b1a3-5547-4d68-ebe2-6ecfecb606bb"
      },
      "outputs": [
        {
          "output_type": "stream",
          "name": "stdout",
          "text": [
            "label 2\n",
            "1/1 [==============================] - 0s 133ms/step\n",
            "prediccion: [[2.04684731e-08]\n",
            " [1.34318555e-11]\n",
            " [1.00000000e+00]\n",
            " [1.74062772e-21]\n",
            " [9.38095681e-15]\n",
            " [2.36176599e-22]\n",
            " [6.13118389e-13]\n",
            " [1.42045589e-17]\n",
            " [3.27619977e-14]\n",
            " [1.40149055e-14]]\n"
          ]
        }
      ],
      "source": [
        "#prediccion\n",
        "index=1\n",
        "print(f'label {test_label[index]}')\n",
        "clasificacion=model.predict(test_images[index:index+1])\n",
        "print(f'prediccion: {(clasificacion.reshape(-1,1))}')\n"
      ]
    },
    {
      "cell_type": "code",
      "execution_count": null,
      "metadata": {
        "collapsed": true,
        "id": "PFGaY1DJxaK3",
        "colab": {
          "base_uri": "https://localhost:8080/"
        },
        "outputId": "cde14a0a-12d6-4773-beb1-eaff6acbb676"
      },
      "outputs": [
        {
          "output_type": "stream",
          "name": "stdout",
          "text": [
            "0\n",
            "0\n",
            "0\n"
          ]
        }
      ],
      "source": [
        "#seleccion de imagenes de interes\n",
        "FIRST_IMAGE=3\n",
        "SECOND_IMAGE=10\n",
        "THIRD_IMAGE=25\n",
        "\n",
        "print(test_label[FIRST_IMAGE])\n",
        "print(test_label[SECOND_IMAGE])\n",
        "print(test_label[THIRD_IMAGE])"
      ]
    },
    {
      "cell_type": "code",
      "execution_count": null,
      "metadata": {
        "id": "EO4UDXEVxpHH",
        "colab": {
          "base_uri": "https://localhost:8080/",
          "height": 450
        },
        "outputId": "bb1fb406-fc0e-4493-ed9e-3cd4e5d6e4a6"
      },
      "outputs": [
        {
          "output_type": "execute_result",
          "data": {
            "text/plain": [
              "<matplotlib.image.AxesImage at 0x7bed551fef20>"
            ]
          },
          "metadata": {},
          "execution_count": 9
        },
        {
          "output_type": "display_data",
          "data": {
            "text/plain": [
              "<Figure size 640x480 with 3 Axes>"
            ],
            "image/png": "[encoded data removed]"
          },
          "metadata": {}
        }
      ],
      "source": [
        "#visualizacion de imagenes\n",
        "f, axarr=plt.subplots(3,1)\n",
        "axarr[0].imshow(test_images[FIRST_IMAGE])\n",
        "axarr[1].imshow(test_images[SECOND_IMAGE])\n",
        "axarr[2].imshow(test_images[THIRD_IMAGE])"
      ]
    },
    {
      "cell_type": "code",
      "execution_count": null,
      "metadata": {
        "id": "bRV9aGuiyKv0"
      },
      "outputs": [],
      "source": [
        "layer=0\n",
        "filter1=0\n",
        "filter2=10\n",
        "\n",
        "layer_ouput=[layer.output for layer in model.layers]\n",
        "activation_model=keras.models.Model(inputs=model.input, outputs=layer_ouput)"
      ]
    },
    {
      "cell_type": "code",
      "source": [
        "#visualizacion de convoluciones\n",
        "f, axarr=plt.subplots(3,3)\n",
        "\n",
        "axarr[0,0].set_title('Imagen de Entrada')\n",
        "axarr[0,0].imshow(test_images[FIRST_IMAGE])\n",
        "f1=activation_model.predict(test_images[FIRST_IMAGE].reshape(1,28,28,1))[layer]\n",
        "axarr[0,1].set_title('Layer'+ str(layer)+', Filter1')\n",
        "axarr[0,1].imshow(f1[0,:,:,filter1])\n",
        "axarr[0,2].set_title('Layer'+ str(layer)+', Filter2')\n",
        "axarr[0,2].imshow(f1[0,:,:,filter2])\n",
        "\n",
        "axarr[1,0].imshow(test_images[SECOND_IMAGE])\n",
        "f1=activation_model.predict(test_images[SECOND_IMAGE].reshape(1,28,28,1))[layer]\n",
        "axarr[1,1].imshow(f1[0,:,:,filter1])\n",
        "axarr[1,2].imshow(f1[0,:,:,filter2])\n",
        "\n",
        "axarr[2,0].imshow(test_images[THIRD_IMAGE].reshape(28,28))\n",
        "f1=activation_model.predict(test_images[THIRD_IMAGE].reshape(1,28,28,1))[layer]\n",
        "axarr[2,1].imshow(f1[0,:,:,filter1])\n",
        "axarr[2,2].imshow(f1[0,:,:,filter2])"
      ],
      "metadata": {
        "colab": {
          "base_uri": "https://localhost:8080/",
          "height": 521
        },
        "id": "J4m2LvrRYLv_",
        "outputId": "0dd96354-751f-4709-ca58-97c2c66f58f0"
      },
      "execution_count": null,
      "outputs": [
        {
          "output_type": "stream",
          "name": "stdout",
          "text": [
            "1/1 [==============================] - 0s 84ms/step\n",
            "1/1 [==============================] - 0s 18ms/step\n",
            "1/1 [==============================] - 0s 20ms/step\n"
          ]
        },
        {
          "output_type": "execute_result",
          "data": {
            "text/plain": [
              "<matplotlib.image.AxesImage at 0x7becc2d6cf40>"
            ]
          },
          "metadata": {},
          "execution_count": 13
        },
        {
          "output_type": "display_data",
          "data": {
            "text/plain": [
              "<Figure size 640x480 with 9 Axes>"
            ],
            "image/png": "[encoded data removed]"
          },
          "metadata": {}
        }
      ]
    },
    {
      "cell_type": "code",
      "source": [
        "#seleccion de imagenes de interes\n",
        "FIRST_IMAGE=2\n",
        "SECOND_IMAGE=5\n",
        "THIRD_IMAGE=14\n",
        "\n",
        "#visualizacion de convoluciones\n",
        "f, axarr=plt.subplots(3,3)\n",
        "\n",
        "axarr[0,0].set_title('Imagen de Entrada')\n",
        "axarr[0,0].imshow(test_images[FIRST_IMAGE])\n",
        "f1=activation_model.predict(test_images[FIRST_IMAGE].reshape(1,28,28,1))[layer]\n",
        "axarr[0,1].set_title('Layer'+ str(layer)+', Filter1')\n",
        "axarr[0,1].imshow(f1[0,:,:,filter1])\n",
        "axarr[0,2].set_title('Layer'+ str(layer)+', Filter2')\n",
        "axarr[0,2].imshow(f1[0,:,:,filter2])\n",
        "\n",
        "axarr[1,0].imshow(test_images[SECOND_IMAGE])\n",
        "f1=activation_model.predict(test_images[SECOND_IMAGE].reshape(1,28,28,1))[layer]\n",
        "axarr[1,1].imshow(f1[0,:,:,filter1])\n",
        "axarr[1,2].imshow(f1[0,:,:,filter2])\n",
        "\n",
        "axarr[2,0].imshow(test_images[THIRD_IMAGE].reshape(28,28))\n",
        "f1=activation_model.predict(test_images[THIRD_IMAGE].reshape(1,28,28,1))[layer]\n",
        "axarr[2,1].imshow(f1[0,:,:,filter1])\n",
        "axarr[2,2].imshow(f1[0,:,:,filter2])"
      ],
      "metadata": {
        "colab": {
          "base_uri": "https://localhost:8080/",
          "height": 521
        },
        "id": "xNs4qsEGaJK-",
        "outputId": "289485a1-a553-4a11-f87a-32f3ce96e76e"
      },
      "execution_count": null,
      "outputs": [
        {
          "output_type": "stream",
          "name": "stdout",
          "text": [
            "1/1 [==============================] - 0s 23ms/step\n",
            "1/1 [==============================] - 0s 21ms/step\n",
            "1/1 [==============================] - 0s 21ms/step\n"
          ]
        },
        {
          "output_type": "execute_result",
          "data": {
            "text/plain": [
              "<matplotlib.image.AxesImage at 0x7bec982dec20>"
            ]
          },
          "metadata": {},
          "execution_count": 14
        },
        {
          "output_type": "display_data",
          "data": {
            "text/plain": [
              "<Figure size 640x480 with 9 Axes>"
            ],
            "image/png": "[encoded data removed]"
          },
          "metadata": {}
        }
      ]
    }
  ],
  "metadata": {
    "colab": {
      "provenance": [],
      "authorship_tag": "ABX9TyMmMTMHaZ/7ZTI6aGoqWAs+",
      "include_colab_link": true
    },
    "kernelspec": {
      "display_name": "Python 3",
      "name": "python3"
    },
    "language_info": {
      "name": "python"
    }
  },
  "nbformat": 4,
  "nbformat_minor": 0
}
